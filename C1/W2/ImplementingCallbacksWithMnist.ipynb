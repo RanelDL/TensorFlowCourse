{
  "nbformat": 4,
  "nbformat_minor": 0,
  "metadata": {
    "colab": {
      "provenance": [],
      "authorship_tag": "ABX9TyNtbB2vM8/NZ5AWl/MALiVp",
      "include_colab_link": true
    },
    "kernelspec": {
      "name": "python3",
      "display_name": "Python 3"
    },
    "language_info": {
      "name": "python"
    }
  },
  "cells": [
    {
      "cell_type": "markdown",
      "metadata": {
        "id": "view-in-github",
        "colab_type": "text"
      },
      "source": [
        "<a href=\"https://colab.research.google.com/github/RanelDL/TensorFlowCourse/blob/main/C1/W2/ImplementingCallbacksWithMnist.ipynb\" target=\"_parent\"><img src=\"https://colab.research.google.com/assets/colab-badge.svg\" alt=\"Open In Colab\"/></a>"
      ]
    },
    {
      "cell_type": "code",
      "execution_count": 3,
      "metadata": {
        "id": "1cIxKJe-H0gy"
      },
      "outputs": [],
      "source": [
        "import tensorflow as tf\n",
        "from tensorflow import keras\n",
        "layers = keras.layers"
      ]
    },
    {
      "cell_type": "code",
      "source": [
        "class MyCallback(tf.keras.callbacks.Callback):\n",
        "    def on_epoch_end(self, epoch, logs = {}):\n",
        "        if logs.get(\"accuracy\") > 0.7:\n",
        "          # Raises keyError if there no accuracy in logs dict :logs['accuracy'] > 0.6:\n",
        "           print(\"\\nacc is above 70%, stopping..\\n\")\n",
        "           self.model.stop_training = True"
      ],
      "metadata": {
        "id": "Z5EKgQvYdQX3"
      },
      "execution_count": 11,
      "outputs": []
    },
    {
      "cell_type": "code",
      "source": [
        "mnist = tf.keras.datasets.mnist\n",
        "\n",
        "# Load dataset (image: 28x28px, training 60k, testing 10k)\n",
        "(train_images, train_lables), (test_images, test_lables) = mnist.load_data()\n",
        "print(\"Loaded Data set\\n\")\n",
        "\n",
        "# Normalize the input values (from 0-255 to 0-1)\n",
        "train_images, test_images = train_images / 255, test_images / 255\n",
        "\n",
        "model = tf.keras.Sequential([layers.Flatten(),\n",
        "                            layers.Dense(256, activation = tf.nn.relu),\n",
        "                            layers.Dense(10, activation = tf.nn.softmax)])"
      ],
      "metadata": {
        "colab": {
          "base_uri": "https://localhost:8080/"
        },
        "id": "dNhVPQrQdVe4",
        "outputId": "57299090-74e2-4af0-9ffd-864b6040e777"
      },
      "execution_count": 7,
      "outputs": [
        {
          "output_type": "stream",
          "name": "stdout",
          "text": [
            "Loaded Data set\n",
            "\n"
          ]
        }
      ]
    },
    {
      "cell_type": "code",
      "source": [
        "model.compile(optimizer = tf.optimizers.Adam(), loss = 'sparse_categorical_crossentropy', metrics = [ \"accuracy\"])\n",
        "myCall = MyCallback()\n",
        "model.fit(train_images, train_lables, epochs = 5, callbacks = [myCall])\n",
        "model.evaluate(test_images, test_lables)"
      ],
      "metadata": {
        "colab": {
          "base_uri": "https://localhost:8080/"
        },
        "id": "NmR7WVgUdasd",
        "outputId": "9b38eeda-bace-4ab3-add9-e77c8fecb05c"
      },
      "execution_count": 12,
      "outputs": [
        {
          "output_type": "stream",
          "name": "stdout",
          "text": [
            "Epoch 1/5\n",
            "1867/1875 [============================>.] - ETA: 0s - loss: 0.0957 - accuracy: 0.9712\n",
            "acc is above 70%, stopping..\n",
            "\n",
            "1875/1875 [==============================] - 10s 5ms/step - loss: 0.0957 - accuracy: 0.9712\n",
            "313/313 [==============================] - 1s 2ms/step - loss: 0.0877 - accuracy: 0.9728\n"
          ]
        },
        {
          "output_type": "execute_result",
          "data": {
            "text/plain": [
              "[0.08769170194864273, 0.9728000164031982]"
            ]
          },
          "metadata": {},
          "execution_count": 12
        }
      ]
    }
  ]
}