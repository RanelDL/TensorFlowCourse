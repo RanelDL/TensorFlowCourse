{
  "nbformat": 4,
  "nbformat_minor": 0,
  "metadata": {
    "colab": {
      "provenance": [],
      "authorship_tag": "ABX9TyNcoJy59gVvSqjijSXa+4YM",
      "include_colab_link": true
    },
    "kernelspec": {
      "name": "python3",
      "display_name": "Python 3"
    },
    "language_info": {
      "name": "python"
    }
  },
  "cells": [
    {
      "cell_type": "markdown",
      "metadata": {
        "id": "view-in-github",
        "colab_type": "text"
      },
      "source": [
        "<a href=\"https://colab.research.google.com/github/RanelDL/TensorFlowCourse/blob/main/C1/W3/Improve_MNIST_with_Convolutions.ipynb\" target=\"_parent\"><img src=\"https://colab.research.google.com/assets/colab-badge.svg\" alt=\"Open In Colab\"/></a>"
      ]
    },
    {
      "cell_type": "code",
      "execution_count": 2,
      "metadata": {
        "id": "LzA4Ac3oouIA"
      },
      "outputs": [],
      "source": [
        "import os\n",
        "import numpy as np\n",
        "import tensorflow as tf\n",
        "from tensorflow import keras"
      ]
    },
    {
      "cell_type": "code",
      "source": [
        "# Load dataset (Only training)\n",
        "mnist = keras.datasets.mnist\n",
        "(train_images, train_lables), _ = mnist.load_data()\n"
      ],
      "metadata": {
        "colab": {
          "base_uri": "https://localhost:8080/"
        },
        "id": "MG5ieOtLo9nx",
        "outputId": "f1fabe17-b731-4d2b-b512-6a2ae348ebc9"
      },
      "execution_count": 4,
      "outputs": [
        {
          "output_type": "stream",
          "name": "stdout",
          "text": [
            "Downloading data from https://storage.googleapis.com/tensorflow/tf-keras-datasets/mnist.npz\n",
            "11490434/11490434 [==============================] - 1s 0us/step\n"
          ]
        }
      ]
    },
    {
      "cell_type": "code",
      "source": [
        "# Data preprocessing\n",
        "def reshape_and_normalize(images):\n",
        "  # Add third dimension according to best practices\n",
        "  images = images.reshape(60000, 28, 28, 1)\n",
        "  images = images / np.max(images)\n",
        "  return images"
      ],
      "metadata": {
        "id": "m0CNTt1mrIWO"
      },
      "execution_count": 1,
      "outputs": []
    },
    {
      "cell_type": "code",
      "source": [
        "# Test:\n",
        "train_images = reshape_and_normalize(train_images)\n",
        "\n",
        "print(f\"Maximum pixel value after normalization: {np.max(train_images)}\\n\")\n",
        "print(f\"Shape of training set after reshaping: {train_images.shape}\\n\")\n",
        "print(f\"Shape of one image after reshaping: {train_images[0].shape}\")"
      ],
      "metadata": {
        "colab": {
          "base_uri": "https://localhost:8080/"
        },
        "id": "oRRFe6TluJX0",
        "outputId": "8195ac14-376c-4955-f43b-7e57169269c5"
      },
      "execution_count": 5,
      "outputs": [
        {
          "output_type": "stream",
          "name": "stdout",
          "text": [
            "Maximum pixel value after normalization: 1.0\n",
            "\n",
            "Shape of training set after reshaping: (60000, 28, 28, 1)\n",
            "\n",
            "Shape of one image after reshaping: (28, 28, 1)\n"
          ]
        }
      ]
    },
    {
      "cell_type": "code",
      "source": [
        "class myCallback(keras.callbacks.Callback):\n",
        "  def on_epoch_end(self, epoch, logs = None):\n",
        "    if(logs.get(\"accuracy\") >= 0.995):\n",
        "      print(\"Reached 99.5% accuracy so cancelling training!\")\n",
        "      self.model.stop_training = True"
      ],
      "metadata": {
        "id": "4SLjd6tfu4wZ"
      },
      "execution_count": 6,
      "outputs": []
    },
    {
      "cell_type": "code",
      "source": [
        "def convolutional_model():\n",
        "  model = keras.models.Sequential([\n",
        "      keras.layers.Conv2D(64, (3,3), input_shape = train_images[0].shape),\n",
        "      keras.layers.MaxPooling2D((2,2)),\n",
        "      keras.layers.Conv2D(64, (3,3)),\n",
        "      keras.layers.MaxPooling2D((2,2)),\n",
        "      keras.layers.Flatten(),\n",
        "      keras.layers.Dense(128, activation = \"relu\"),\n",
        "      keras.layers.Dense(10, activation = \"softmax\")\n",
        "  ])\n",
        "  model.compile(optimizer =\"adam\", loss = \"sparse_categorical_crossentropy\", metrics = [\"accuracy\"])\n",
        "  return model"
      ],
      "metadata": {
        "id": "va7XXeDtwynr"
      },
      "execution_count": 13,
      "outputs": []
    },
    {
      "cell_type": "code",
      "source": [
        "model = convolutional_model()\n",
        "myCalls = myCallback()\n",
        "history = model.fit(train_images, train_lables, epochs = 10, callbacks = [myCalls])"
      ],
      "metadata": {
        "colab": {
          "base_uri": "https://localhost:8080/"
        },
        "id": "aNLWbQOG0KoP",
        "outputId": "8a0b5a18-6dd6-4050-ea07-0baf02b3ea20"
      },
      "execution_count": 14,
      "outputs": [
        {
          "output_type": "stream",
          "name": "stdout",
          "text": [
            "Epoch 1/10\n",
            "1875/1875 [==============================] - 88s 46ms/step - loss: 0.1290 - accuracy: 0.9610\n",
            "Epoch 2/10\n",
            "1875/1875 [==============================] - 88s 47ms/step - loss: 0.0447 - accuracy: 0.9861\n",
            "Epoch 3/10\n",
            "1875/1875 [==============================] - 88s 47ms/step - loss: 0.0294 - accuracy: 0.9902\n",
            "Epoch 4/10\n",
            "1875/1875 [==============================] - 88s 47ms/step - loss: 0.0246 - accuracy: 0.9920\n",
            "Epoch 5/10\n",
            "1875/1875 [==============================] - 88s 47ms/step - loss: 0.0189 - accuracy: 0.9937\n",
            "Epoch 6/10\n",
            "1875/1875 [==============================] - ETA: 0s - loss: 0.0151 - accuracy: 0.9952Reached 99.5% accuracy so cancelling training!\n",
            "1875/1875 [==============================] - 91s 49ms/step - loss: 0.0151 - accuracy: 0.9952\n"
          ]
        }
      ]
    },
    {
      "cell_type": "code",
      "source": [
        "# Answer:\n",
        "# AND ONLY RUN THIS CELL IF YOU WISH TO SEE AN ANSWER\n",
        "\n",
        "import base64\n",
        "\n",
        "encoded_answer = \"CiAgIC0gQSBDb252MkQgbGF5ZXIgd2l0aCAzMiBmaWx0ZXJzLCBhIGtlcm5lbF9zaXplIG9mIDN4MywgUmVMVSBhY3RpdmF0aW9uIGZ1bmN0aW9uIGFuZCBhbiBpbnB1dCBzaGFwZSB0aGF0IG1hdGNoZXMgdGhhdCBvZiBldmVyeSBpbWFnZSBpbiB0aGUgdHJhaW5pbmcgc2V0CiAgIC0gQSBNYXhQb29saW5nMkQgbGF5ZXIgd2l0aCBhIHBvb2xfc2l6ZSBvZiAyeDIKICAgLSBBIEZsYXR0ZW4gbGF5ZXIgd2l0aCBubyBhcmd1bWVudHMKICAgLSBBIERlbnNlIGxheWVyIHdpdGggMTI4IHVuaXRzIGFuZCBSZUxVIGFjdGl2YXRpb24gZnVuY3Rpb24KICAgLSBBIERlbnNlIGxheWVyIHdpdGggMTAgdW5pdHMgYW5kIHNvZnRtYXggYWN0aXZhdGlvbiBmdW5jdGlvbgo=\"\n",
        "encoded_answer = encoded_answer.encode('ascii')\n",
        "answer = base64.b64decode(encoded_answer)\n",
        "answer = answer.decode('ascii')\n",
        "\n",
        "print(answer)"
      ],
      "metadata": {
        "colab": {
          "base_uri": "https://localhost:8080/"
        },
        "id": "nAKoEFeA3Mn_",
        "outputId": "a81cdafb-b1b3-4847-e899-72c432ca9831"
      },
      "execution_count": 15,
      "outputs": [
        {
          "output_type": "stream",
          "name": "stdout",
          "text": [
            "\n",
            "   - A Conv2D layer with 32 filters, a kernel_size of 3x3, ReLU activation function and an input shape that matches that of every image in the training set\n",
            "   - A MaxPooling2D layer with a pool_size of 2x2\n",
            "   - A Flatten layer with no arguments\n",
            "   - A Dense layer with 128 units and ReLU activation function\n",
            "   - A Dense layer with 10 units and softmax activation function\n",
            "\n"
          ]
        }
      ]
    }
  ]
}